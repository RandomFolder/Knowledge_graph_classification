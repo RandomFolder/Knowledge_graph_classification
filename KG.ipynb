{
 "cells": [
  {
   "cell_type": "code",
   "execution_count": 1,
   "id": "af6268bf",
   "metadata": {},
   "outputs": [
    {
     "name": "stderr",
     "output_type": "stream",
     "text": [
      "[nltk_data] Downloading package punkt_tab to\n",
      "[nltk_data]     C:\\Users\\HP\\AppData\\Roaming\\nltk_data...\n",
      "[nltk_data]   Package punkt_tab is already up-to-date!\n",
      "[nltk_data] Downloading package stopwords to\n",
      "[nltk_data]     C:\\Users\\HP\\AppData\\Roaming\\nltk_data...\n",
      "[nltk_data]   Package stopwords is already up-to-date!\n",
      "[nltk_data] Downloading package wordnet to\n",
      "[nltk_data]     C:\\Users\\HP\\AppData\\Roaming\\nltk_data...\n",
      "[nltk_data]   Package wordnet is already up-to-date!\n"
     ]
    }
   ],
   "source": [
    "import nltk\n",
    "import spacy\n",
    "from nltk.corpus import wordnet\n",
    "from nltk import sent_tokenize, word_tokenize\n",
    "from nltk.corpus import stopwords\n",
    "from nltk.stem import WordNetLemmatizer\n",
    "\n",
    "nltk.download('punkt_tab')\n",
    "nltk.download('stopwords')\n",
    "nltk.download('wordnet')\n",
    "\n",
    "nlp = spacy.load('en_core_web_sm')"
   ]
  },
  {
   "cell_type": "code",
   "execution_count": 2,
   "id": "4001d6d2",
   "metadata": {},
   "outputs": [],
   "source": [
    "stop_words = set(stopwords.words('english'))\n",
    "stop_words.remove(\"not\")\n",
    "lemmatizer = WordNetLemmatizer()\n",
    "\n",
    "def get_synonyms_and_antonyms(word):\n",
    "    synonyms = []\n",
    "    antonyms = []\n",
    "\n",
    "    for syn in wordnet.synsets(word):\n",
    "        for l in syn.lemmas():\n",
    "            synonyms.append(l.name())\n",
    "            if l.antonyms():\n",
    "                antonyms.append(l.antonyms()[0].name())\n",
    "    \n",
    "    return set(synonyms), set(antonyms)\n",
    "\n",
    "\n",
    "def preprocess_text(text):\n",
    "    words = []\n",
    "    doc = nlp(text)\n",
    "\n",
    "    for tok in doc:\n",
    "        pos = spacy.explain(tok.pos_)\n",
    "        dep = tok.dep_\n",
    "\n",
    "        if pos == \"noun\" or pos == \"verb\" or pos == \"adjective\" or pos == \"adverb\" or dep == \"neg\":\n",
    "            words.append(tok.text)\n",
    "            \n",
    "    return words"
   ]
  },
  {
   "cell_type": "code",
   "execution_count": 3,
   "id": "63724b10",
   "metadata": {},
   "outputs": [],
   "source": [
    "class GraphClassifier:\n",
    "    def __init__(self):\n",
    "        self.triplets = []\n",
    "        self.labels = None\n",
    "        self.labels_count = 0\n",
    "        self.triplets_count = {}\n",
    "        self.graph = {}\n",
    "    \n",
    "\n",
    "    def add_triplet(self, source, relation, target, weight):\n",
    "        if self.triplets_count.get((source, relation, target)) is None:\n",
    "            self.triplets_count[(source, relation, target)] = 1 / weight\n",
    "        else:\n",
    "            self.triplets_count[(source, relation, target)] += 1 / weight\n",
    "        self.triplets.append((source, relation, target))\n",
    "\n",
    "    \n",
    "    def fit(self, data, labels, unique_labels, data_size):\n",
    "        self.labels_count = len(unique_labels)\n",
    "        self.labels = unique_labels\n",
    "\n",
    "        for i in range(len(data)):\n",
    "            words = preprocess_text(data[i])\n",
    "\n",
    "            for j in range(len(words)):\n",
    "                self.add_triplet(words[j], \"expresses\", labels[i], 1)\n",
    "\n",
    "                for k in range(len(words)):\n",
    "                    if k != j:\n",
    "                        self.add_triplet(words[j], \"means \" + labels[i] + \" with\", words[k], 1)\n",
    "                        self.add_triplet(words[k], \"means \" + labels[i] + \" with\", words[j], 1)\n",
    "        \n",
    "        unique_triplets = set(self.triplets)\n",
    "        actual_triplets = []\n",
    "        for tr in iter(unique_triplets):\n",
    "            if self.graph.get(tr[0]) == None:\n",
    "                self.graph[tr[0]] = {}\n",
    "            \n",
    "            if self.graph[tr[0]].get(tr[1]) == None:\n",
    "                self.graph[tr[0]][tr[1]] = {}\n",
    "            \n",
    "            if self.graph[tr[0]][tr[1]].get(tr[2]) == None:\n",
    "                self.graph[tr[0]][tr[1]][tr[2]] = self.triplets_count[tr]\n",
    "            else:\n",
    "                self.graph[tr[0]][tr[1]][tr[2]] += self.triplets_count[tr]\n",
    "        \n",
    "        self.triplets = actual_triplets\n",
    "    \n",
    "\n",
    "    def get_word2word_score(self, word1_idx, words, emotion_idx):\n",
    "        all_emos = [0] * len(self.labels)\n",
    "        \n",
    "        for k in range(len(self.labels)):\n",
    "            res = []\n",
    "\n",
    "            for j in range(len(words)):\n",
    "                if j != word1_idx and self.graph.get(words[word1_idx]) != None and self.graph[words[word1_idx]].get(\"means \" + self.labels[emotion_idx] + \" with\") != None and self.graph[words[word1_idx]][\"means \" + self.labels[emotion_idx] + \" with\"].get(words[j]) != None:\n",
    "                    val = self.graph[words[word1_idx]][\"means \" + self.labels[emotion_idx] + \" with\"][words[j]]\n",
    "                    res.append(val)\n",
    "            \n",
    "            if len(res) == 0:\n",
    "                all_emos[k] = 0.0\n",
    "            else:\n",
    "                all_emos[k] = sum(res) / len(res)\n",
    "        \n",
    "        if sum(all_emos) == 0:\n",
    "            return 0.0\n",
    "        \n",
    "        return all_emos[emotion_idx] / sum(all_emos)\n",
    "\n",
    "\n",
    "    def get_score(self, word, emotion):\n",
    "        occurances = sum([self.graph[word][\"expresses\"][emo] for emo in self.labels if self.graph.get(word) != None and self.graph[word].get(\"expresses\") != None and self.graph[word][\"expresses\"].get(emo) != None])\n",
    "        emotion_word_occurances = self.graph[word][\"expresses\"][emotion] if self.graph.get(word) != None and self.graph[word].get(\"expresses\") != None and self.graph[word][\"expresses\"].get(emotion) != None else 0\n",
    "\n",
    "        if occurances == 0:\n",
    "            return 0.0\n",
    "\n",
    "        return emotion_word_occurances / occurances\n",
    "\n",
    "\n",
    "    def predict(self, data):\n",
    "        emotions_count = [0] * self.labels_count\n",
    "\n",
    "        words = preprocess_text(data)\n",
    "\n",
    "        for i in range(len(words)):\n",
    "            for j in range(len(self.labels)):\n",
    "                emotion_score = self.get_score(words[i], self.labels[j])\n",
    "                word2word_score = self.get_word2word_score(i, words, j)\n",
    "                val = word2word_score + emotion_score\n",
    "                emotions_count[j] += val\n",
    "        \n",
    "        ind = 0\n",
    "        max_element = emotions_count[0]\n",
    "\n",
    "        for i in range (1,len(emotions_count)):\n",
    "            if emotions_count[i] > max_element:\n",
    "                max_element = emotions_count[i]\n",
    "                ind = i\n",
    "        \n",
    "        return self.labels[ind]"
   ]
  },
  {
   "cell_type": "code",
   "execution_count": 4,
   "id": "16fd6af6",
   "metadata": {},
   "outputs": [],
   "source": [
    "import numpy as np\n",
    "import pandas as pd"
   ]
  },
  {
   "cell_type": "code",
   "execution_count": 5,
   "id": "bc244c17",
   "metadata": {},
   "outputs": [
    {
     "name": "stdout",
     "output_type": "stream",
     "text": [
      "                                                text  label\n",
      "0  i feel awful about it too because it s my job ...      0\n",
      "1                              im alone i feel awful      0\n",
      "2  ive probably mentioned this before but i reall...      1\n",
      "3           i was feeling a little low few days back      0\n",
      "4  i beleive that i am much more sensitive to oth...      2\n"
     ]
    }
   ],
   "source": [
    "data = pd.read_parquet('train-00000-of-00001.parquet', engine='fastparquet')\n",
    "print(data.head())"
   ]
  },
  {
   "cell_type": "code",
   "execution_count": 6,
   "id": "1f1240a4",
   "metadata": {},
   "outputs": [
    {
     "name": "stdout",
     "output_type": "stream",
     "text": [
      "                                                text  emotion\n",
      "0  i feel awful about it too because it s my job ...  sadness\n",
      "1                              im alone i feel awful  sadness\n",
      "2  ive probably mentioned this before but i reall...      joy\n",
      "3           i was feeling a little low few days back  sadness\n",
      "4  i beleive that i am much more sensitive to oth...     love\n"
     ]
    }
   ],
   "source": [
    "emotion_map = {0: 'sadness', 1: 'joy', 2: 'love', 3: 'anger', 4: 'fear', 5: 'surprise'}\n",
    "data['emotion'] = data['label'].map(emotion_map)\n",
    "\n",
    "# Preview the updated dataframe\n",
    "print(data[['text', 'emotion']].head())"
   ]
  },
  {
   "cell_type": "code",
   "execution_count": 7,
   "id": "3250a803",
   "metadata": {},
   "outputs": [
    {
     "data": {
      "text/plain": [
       "label\n",
       "1    141067\n",
       "0    121187\n",
       "3     57317\n",
       "4     47712\n",
       "2     34554\n",
       "5     14972\n",
       "Name: count, dtype: int64"
      ]
     },
     "execution_count": 7,
     "metadata": {},
     "output_type": "execute_result"
    }
   ],
   "source": [
    "data['label'].value_counts()"
   ]
  },
  {
   "cell_type": "code",
   "execution_count": 8,
   "id": "8b11d7ae",
   "metadata": {},
   "outputs": [],
   "source": [
    "unique_labels = ['sadness', 'joy', 'love', 'anger', 'fear', 'surprise']"
   ]
  },
  {
   "cell_type": "code",
   "execution_count": 9,
   "id": "a395aa56",
   "metadata": {},
   "outputs": [
    {
     "name": "stdout",
     "output_type": "stream",
     "text": [
      "                                                     text  label   emotion\n",
      "204138  i feel like there might not be anything to thi...      5  surprise\n",
      "373457  i went to my apartment around o clock with my ...      5  surprise\n",
      "160305  i feel amazing a href http monique mylifewitho...      1       joy\n",
      "326831                      i know how you feel sweet pea      2      love\n",
      "338396  i know your life is not worthy of envy but thi...      5  surprise\n",
      "...                                                   ...    ...       ...\n",
      "185799  i like it on croissants when im feeling naught...      2      love\n",
      "18301   i was feeling a bit strange had some food and ...      4      fear\n",
      "337493  i feel there is some injustice in not acknowle...      3     anger\n",
      "171841  i was driving around there looking at all the ...      4      fear\n",
      "292342              ive been feeling weird and old lately      5  surprise\n",
      "\n",
      "[89832 rows x 3 columns]\n",
      "emotion\n",
      "surprise    14972\n",
      "joy         14972\n",
      "love        14972\n",
      "anger       14972\n",
      "fear        14972\n",
      "sadness     14972\n",
      "Name: count, dtype: int64\n"
     ]
    }
   ],
   "source": [
    "def create_uniform_sample(data, labels, num):\n",
    "    dfs = []\n",
    "\n",
    "    for l in labels:\n",
    "        emotion_df = data.loc[(data['emotion'] == l)]\n",
    "        emotion_df = emotion_df.sample(n=num)\n",
    "        dfs.append(emotion_df)\n",
    "    \n",
    "    overall_df = pd.concat(dfs, axis=0)\n",
    "    overall_df = overall_df.sample(frac=1)\n",
    "\n",
    "    return overall_df\n",
    "\n",
    "overall_df = create_uniform_sample(data, unique_labels, 14972)\n",
    "print(overall_df)\n",
    "print(overall_df['emotion'].value_counts())"
   ]
  },
  {
   "cell_type": "code",
   "execution_count": 12,
   "id": "622b569f",
   "metadata": {},
   "outputs": [
    {
     "data": {
      "text/plain": [
       "<Axes: >"
      ]
     },
     "execution_count": 12,
     "metadata": {},
     "output_type": "execute_result"
    },
    {
     "data": {
      "image/png": "[encoded data removed]",
      "text/plain": [
       "<Figure size 640x480 with 1 Axes>"
      ]
     },
     "metadata": {},
     "output_type": "display_data"
    }
   ],
   "source": [
    "overall_df['emotion'].hist()"
   ]
  },
  {
   "cell_type": "code",
   "execution_count": 10,
   "id": "e6f22622",
   "metadata": {},
   "outputs": [],
   "source": [
    "X = list(overall_df['text'])\n",
    "y = list(overall_df['emotion'])"
   ]
  },
  {
   "cell_type": "code",
   "execution_count": null,
   "id": "812bc077",
   "metadata": {},
   "outputs": [],
   "source": [
    "from sklearn.model_selection import train_test_split\n",
    "\n",
    "X_train, X_test, y_train, y_test = train_test_split(X, y, test_size=0.2, random_state=42)"
   ]
  },
  {
   "cell_type": "code",
   "execution_count": 13,
   "id": "540e10a6",
   "metadata": {},
   "outputs": [],
   "source": [
    "clf = GraphClassifier()\n",
    "clf.fit(X_train, y_train, unique_labels, len(X))"
   ]
  },
  {
   "cell_type": "code",
   "execution_count": null,
   "id": "8e1b3dcf",
   "metadata": {},
   "outputs": [],
   "source": [
    "from tqdm import tqdm\n",
    "\n",
    "def accuracy_score(classifier, data, y_vals):\n",
    "    correct_count = 0\n",
    "\n",
    "    for i in tqdm(range(len(data))):\n",
    "        res = classifier.predict(data[i])\n",
    "        if res == y_vals[i]:\n",
    "            correct_count += 1\n",
    "    \n",
    "    return correct_count / len(data)"
   ]
  },
  {
   "cell_type": "code",
   "execution_count": 16,
   "id": "cf0dab1b",
   "metadata": {},
   "outputs": [
    {
     "name": "stderr",
     "output_type": "stream",
     "text": [
      "100%|██████████| 17967/17967 [04:03<00:00, 73.80it/s]"
     ]
    },
    {
     "name": "stdout",
     "output_type": "stream",
     "text": [
      "Accuracy: 0.8195580786998385\n"
     ]
    },
    {
     "name": "stderr",
     "output_type": "stream",
     "text": [
      "\n"
     ]
    }
   ],
   "source": [
    "print(\"Accuracy:\", accuracy_score(clf, X_test, y_test))"
   ]
  },
  {
   "cell_type": "code",
   "execution_count": 21,
   "id": "ccc27e0c",
   "metadata": {},
   "outputs": [
    {
     "data": {
      "text/plain": [
       "<Axes: >"
      ]
     },
     "execution_count": 21,
     "metadata": {},
     "output_type": "execute_result"
    },
    {
     "data": {
      "image/png": "[encoded data removed]",
      "text/plain": [
       "<Figure size 640x480 with 1 Axes>"
      ]
     },
     "metadata": {},
     "output_type": "display_data"
    }
   ],
   "source": [
    "df2 = data.sample(frac=0.25)\n",
    "df2['emotion'].hist()"
   ]
  },
  {
   "cell_type": "code",
   "execution_count": 22,
   "id": "b8a698a9",
   "metadata": {},
   "outputs": [],
   "source": [
    "X = list(df2['text'])\n",
    "y = list(df2['emotion'])\n",
    "\n",
    "X_train, X_test, y_train, y_test = train_test_split(X, y, test_size=0.2, random_state=42)\n",
    "\n",
    "clf = GraphClassifier()\n",
    "clf.fit(X_train, y_train, unique_labels, len(X))"
   ]
  },
  {
   "cell_type": "code",
   "execution_count": 23,
   "id": "5b966b3a",
   "metadata": {},
   "outputs": [
    {
     "name": "stderr",
     "output_type": "stream",
     "text": [
      "100%|██████████| 20841/20841 [04:42<00:00, 73.81it/s]"
     ]
    },
    {
     "name": "stdout",
     "output_type": "stream",
     "text": [
      "Accuracy: 0.6363898085504535\n"
     ]
    },
    {
     "name": "stderr",
     "output_type": "stream",
     "text": [
      "\n"
     ]
    }
   ],
   "source": [
    "print(\"Accuracy:\", accuracy_score(clf, X_test, y_test))"
   ]
  }
 ],
 "metadata": {
  "kernelspec": {
   "display_name": "Python 3",
   "language": "python",
   "name": "python3"
  },
  "language_info": {
   "codemirror_mode": {
    "name": "ipython",
    "version": 3
   },
   "file_extension": ".py",
   "mimetype": "text/x-python",
   "name": "python",
   "nbconvert_exporter": "python",
   "pygments_lexer": "ipython3",
   "version": "3.11.0"
  }
 },
 "nbformat": 4,
 "nbformat_minor": 5
}
